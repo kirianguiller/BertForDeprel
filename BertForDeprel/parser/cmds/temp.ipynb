{
 "metadata": {
  "language_info": {
   "codemirror_mode": {
    "name": "ipython",
    "version": 3
   },
   "file_extension": ".py",
   "mimetype": "text/x-python",
   "name": "python",
   "nbconvert_exporter": "python",
   "pygments_lexer": "ipython3",
   "version": "3.9.2"
  },
  "orig_nbformat": 2,
  "kernelspec": {
   "name": "python3",
   "display_name": "Python 3.9.2 64-bit"
  }
 },
 "nbformat": 4,
 "nbformat_minor": 2,
 "cells": [
  {
   "cell_type": "code",
   "execution_count": 7,
   "metadata": {},
   "outputs": [],
   "source": [
    "def min_edit_script(source, target, allow_copy=False):\n",
    "    \"\"\"\n",
    "    Finds the minimum edit script to transform the source to the target\n",
    "    \"\"\"\n",
    "    a = [[(len(source) + len(target) + 1, None)] * (len(target) + 1) for _ in range(len(source) + 1)]\n",
    "    for i in range(0, len(source) + 1):\n",
    "        for j in range(0, len(target) + 1):\n",
    "            if i == 0 and j == 0:\n",
    "                a[i][j] = (0, \"\")\n",
    "            else:\n",
    "                if allow_copy and i and j and source[i - 1] == target[j - 1] and a[i-1][j-1][0] < a[i][j][0]:\n",
    "                    a[i][j] = (a[i-1][j-1][0], a[i-1][j-1][1] + \"→\")\n",
    "                if i and a[i-1][j][0] < a[i][j][0]:\n",
    "                    a[i][j] = (a[i-1][j][0] + 1, a[i-1][j][1] + \"-\")\n",
    "                if j and a[i][j-1][0] < a[i][j][0]:\n",
    "                    a[i][j] = (a[i][j-1][0] + 1, a[i][j-1][1] + \"+\" + target[j - 1])\n",
    "    return a[-1][-1][1]"
   ]
  },
  {
   "cell_type": "code",
   "execution_count": 8,
   "metadata": {},
   "outputs": [
    {
     "output_type": "execute_result",
     "data": {
      "text/plain": [
       "'-+m→+a+b→→→+e+d'"
      ]
     },
     "metadata": {},
     "execution_count": 8
    }
   ],
   "source": [
    "min_edit_script(\"Mines\",\"miabnesed\",allow_copy=True)"
   ]
  },
  {
   "cell_type": "code",
   "execution_count": 1,
   "metadata": {},
   "outputs": [],
   "source": [
    "def short_edit_script(source, target, allow_copy=False):\n",
    "    \"\"\"\n",
    "    Finds the minimum edit script to transform the source to the target\n",
    "    source->form, target->lemma\n",
    "    \"\"\"\n",
    "    a = [[(len(source) + len(target) + 1, None)] * (len(target) + 1) for _ in range(len(source) + 1)]\n",
    "    for i in range(0, len(source) + 1):\n",
    "        for j in range(0, len(target) + 1):\n",
    "            if i == 0 and j == 0:\n",
    "                a[i][j] = (0, \"\")\n",
    "            else:\n",
    "                if allow_copy and i and j and source[i - 1].lower() == target[j - 1] and a[i-1][j-1][0] < a[i][j][0]:\n",
    "                    if source[i - 1] == target[j - 1]:\n",
    "                        a[i][j] = (a[i-1][j-1][0], a[i-1][j-1][1] + \"→\")\n",
    "                    else:\n",
    "                        a[i][j] = (a[i-1][j-1][0], a[i-1][j-1][1] + \"↓\")\n",
    "                if i and a[i-1][j][0] < a[i][j][0]:\n",
    "                    a[i][j] = (a[i-1][j][0] + 1, a[i-1][j][1] + \"-\")\n",
    "                if j and a[i][j-1][0] < a[i][j][0]:\n",
    "                    a[i][j] = (a[i][j-1][0] + 1, a[i][j-1][1] + \"+\" + target[j - 1])\n",
    "    return a[-1][-1][1]"
   ]
  },
  {
   "cell_type": "code",
   "execution_count": 2,
   "metadata": {},
   "outputs": [
    {
     "output_type": "execute_result",
     "data": {
      "text/plain": [
       "'-----+m+i+a+b+n+e+s+e+d'"
      ]
     },
     "metadata": {},
     "execution_count": 2
    }
   ],
   "source": [
    "short_edit_script(\"Mines\",\"miabnesed\",allow_copy=False)"
   ]
  },
  {
   "cell_type": "code",
   "execution_count": 3,
   "metadata": {},
   "outputs": [
    {
     "output_type": "execute_result",
     "data": {
      "text/plain": [
       "'↓→+a+b→→→+e+d'"
      ]
     },
     "metadata": {},
     "execution_count": 3
    }
   ],
   "source": [
    "short_edit_script(\"Mines\",\"miabnesed\",allow_copy=True)"
   ]
  },
  {
   "source": [
    "四个‘-’表示去掉w,e,n,然后加上g,o</br>\n",
    "‘↓’表示把大写变小写，这里假设在通常情况下，form中的为小写的字母，在lemma中一定是小写，不可能是大写。"
   ],
   "cell_type": "markdown",
   "metadata": {}
  },
  {
   "cell_type": "code",
   "execution_count": 30,
   "metadata": {},
   "outputs": [],
   "source": [
    "def gen_lemma_rule(form, lemma, allow_copy=False):\n",
    "    \"\"\"\n",
    "    Generates a lemma rule to transform the form to the lemma\n",
    "    \"\"\"\n",
    "    form = form.lower()\n",
    "\n",
    "    previous_case = -1\n",
    "    # lemma_casing is to divide lemma into upper case substring and lower case substring\n",
    "    lemma_casing = \"\"\n",
    "    for i, c in enumerate(lemma):\n",
    "        case = \"↑\" if c.lower() != c else \"↓\"   # 判断lemma中的每个字母是大写还是小写\n",
    "        if case != previous_case:\n",
    "            lemma_casing += \"{}{}{}\".format(\"¦\" if lemma_casing else \"\", case, i if i <= len(lemma) // 2 else i - len(lemma))   # ‘//’向下取整商，\n",
    "        previous_case = case\n",
    "    lemma = lemma.lower()\n",
    "\n",
    "    best, best_form, best_lemma = 0, 0, 0\n",
    "    # Find the same substring between form and lemma\n",
    "    for l in range(len(lemma)):\n",
    "        for f in range(len(form)):\n",
    "            cpl = 0\n",
    "            while f + cpl < len(form) and l + cpl < len(lemma) and form[f + cpl] == lemma[l + cpl]: cpl += 1\n",
    "            if cpl > best:\n",
    "                best = cpl\n",
    "                best_form = f\n",
    "                best_lemma = l\n",
    "\n",
    "    rule = lemma_casing + \";\"\n",
    "    if not best:\n",
    "        rule += \"a\" + lemma\n",
    "    else:\n",
    "        rule += \"start:{}¦{}\".format(\n",
    "            form[:best],\n",
    "            short_edit_script(form[best_form + best:], lemma[best_lemma + best:], allow_copy),\n",
    "        )\n",
    "    return rule"
   ]
  },
  {
   "cell_type": "code",
   "execution_count": 32,
   "metadata": {},
   "outputs": [
    {
     "output_type": "execute_result",
     "data": {
      "text/plain": [
       "'↑0¦↓1;start:stude¦+e→→-'"
      ]
     },
     "metadata": {},
     "execution_count": 32
    }
   ],
   "source": [
    "gen_lemma_rule('Students', 'Studeent', allow_copy=True)"
   ]
  },
  {
   "cell_type": "code",
   "execution_count": 14,
   "metadata": {},
   "outputs": [
    {
     "output_type": "execute_result",
     "data": {
      "text/plain": [
       "list"
      ]
     },
     "metadata": {},
     "execution_count": 14
    }
   ],
   "source": [
    "type([gen_lemma_rule('students', 'studant', allow_copy=False)])"
   ]
  }
 ]
}